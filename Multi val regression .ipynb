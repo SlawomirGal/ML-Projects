{
 "cells": [
  {
   "cell_type": "code",
   "execution_count": 1,
   "metadata": {},
   "outputs": [],
   "source": [
    "# %load ../../standard_import.txt\n",
    "import pandas as pd\n",
    "import numpy as np\n",
    "import matplotlib.pyplot as plt\n",
    "\n",
    "\n",
    "\n",
    "from sklearn.linear_model import LinearRegression\n",
    "from mpl_toolkits.mplot3d import axes3d\n",
    "\n",
    "pd.set_option('display.notebook_repr_html', False)\n",
    "pd.set_option('display.max_columns', None)\n",
    "pd.set_option('display.max_rows', 150)\n",
    "pd.set_option('display.max_seq_items', None)\n",
    " \n",
    "#%config InlineBackend.figure_formats = {'pdf',}\n",
    "%matplotlib inline  \n",
    "\n",
    "import seaborn as sns\n",
    "sns.set_context('notebook')\n",
    "sns.set_style('white')"
   ]
  },
  {
   "cell_type": "markdown",
   "metadata": {},
   "source": [
    "## Multi variable linear regression."
   ]
  },
  {
   "cell_type": "markdown",
   "metadata": {},
   "source": [
    "First let's load own data."
   ]
  },
  {
   "cell_type": "code",
   "execution_count": 2,
   "metadata": {},
   "outputs": [
    {
     "name": "stdout",
     "output_type": "stream",
     "text": [
      "[[2.104e+03 3.000e+00 3.999e+05]\n",
      " [1.600e+03 3.000e+00 3.299e+05]\n",
      " [2.400e+03 3.000e+00 3.690e+05]\n",
      " [1.416e+03 2.000e+00 2.320e+05]\n",
      " [3.000e+03 4.000e+00 5.399e+05]]\n"
     ]
    }
   ],
   "source": [
    "data = np.loadtxt('data/RegLinMultVar.txt', delimiter=',')\n",
    "X = np.c_[data[:,0], data[:, 1]]\n",
    "y = np.c_[data[:,2]]\n",
    "m = y.size\n",
    "print(data[:5, :])"
   ]
  },
  {
   "cell_type": "markdown",
   "metadata": {},
   "source": [
    "### Normalization.\n",
    "Data is in different numerical interval. To deal withgh this we will use process named normalization. In this case we will \n",
    "subtract form every column a mean value of those columns and then divade it by standard devation."
   ]
  },
  {
   "cell_type": "code",
   "execution_count": 3,
   "metadata": {},
   "outputs": [],
   "source": [
    "mean = 0\n",
    "st_dev = 0\n",
    "X = X\n",
    "mean = np.mean(X, axis = 0)\n",
    "st_dev = np.std(X, axis = 0)\n",
    "X = (X - mean)/st_dev"
   ]
  },
  {
   "cell_type": "markdown",
   "metadata": {},
   "source": [
    "After this is time to add 'ones' vector in front of the data."
   ]
  },
  {
   "cell_type": "code",
   "execution_count": 4,
   "metadata": {},
   "outputs": [],
   "source": [
    "X = np.c_[np.ones(m), X]"
   ]
  },
  {
   "cell_type": "code",
   "execution_count": 5,
   "metadata": {},
   "outputs": [
    {
     "name": "stdout",
     "output_type": "stream",
     "text": [
      "[[ 1.          0.13141542 -0.22609337]\n",
      " [ 1.         -0.5096407  -0.22609337]\n",
      " [ 1.          0.5079087  -0.22609337]\n",
      " [ 1.         -0.74367706 -1.5543919 ]\n",
      " [ 1.          1.27107075  1.10220517]]\n"
     ]
    }
   ],
   "source": [
    "print(X[:5, :])"
   ]
  },
  {
   "cell_type": "markdown",
   "metadata": {},
   "source": [
    "Loss function"
   ]
  },
  {
   "cell_type": "code",
   "execution_count": 6,
   "metadata": {},
   "outputs": [],
   "source": [
    "def computeCostMult(X, y, theta):\n",
    "    J = 0\n",
    "    J = np.dot(X,theta)\n",
    "    J1 = np.transpose(J-y)\n",
    "    J2 = J-y\n",
    "    J = np.dot(J1,J2)\n",
    "    J = J/(2*m)\n",
    "    return(J)"
   ]
  },
  {
   "cell_type": "markdown",
   "metadata": {},
   "source": [
    "Optimizer"
   ]
  },
  {
   "cell_type": "code",
   "execution_count": 8,
   "metadata": {},
   "outputs": [],
   "source": [
    "def gradientDescent(X, y, theta, alpha, num_iters):\n",
    "    m = y.size\n",
    "    J_history = np.zeros(num_iters)\n",
    "    theta = np.zeros((3, 1))\n",
    "    for iter in np.arange(num_iters):\n",
    "        J = np.dot(X,theta)\n",
    "        J1 = np.dot(np.transpose(X),J - y)\n",
    "        J = J1/m\n",
    "        theta = theta - (alpha * J) \n",
    "        \n",
    "        J_history[iter] = computeCostMult(X, y, theta)\n",
    "    return(theta, J_history)"
   ]
  },
  {
   "cell_type": "markdown",
   "metadata": {},
   "source": [
    "Let's take a look at predicted theta's"
   ]
  },
  {
   "cell_type": "code",
   "execution_count": 9,
   "metadata": {},
   "outputs": [
    {
     "name": "stdout",
     "output_type": "stream",
     "text": [
      "theta:  [334302.06399328  99411.44947359   3267.01285407]\n"
     ]
    }
   ],
   "source": [
    "theta , Cost_J = gradientDescent(X, y, theta, alpha, num_iters)\n",
    "print('theta: ',theta.ravel())"
   ]
  },
  {
   "cell_type": "markdown",
   "metadata": {},
   "source": [
    "To be shur that training goes well, let's plot loss function "
   ]
  },
  {
   "cell_type": "code",
   "execution_count": 10,
   "metadata": {},
   "outputs": [
    {
     "data": {
      "image/png": "[encoded data removed]",
      "text/plain": [
       "<Figure size 432x288 with 1 Axes>"
      ]
     },
     "metadata": {
      "needs_background": "light"
     },
     "output_type": "display_data"
    }
   ],
   "source": [
    "plt.plot(Cost_J)\n",
    "plt.ylabel('Koszt J')\n",
    "plt.xlabel('Iteracje');"
   ]
  },
  {
   "cell_type": "markdown",
   "metadata": {},
   "source": [
    "Now we can use the $\\theta$ parameters to predict price of flat with an area 1650 ft$^2$ and 3 rooms."
   ]
  },
  {
   "cell_type": "code",
   "execution_count": 11,
   "metadata": {},
   "outputs": [
    {
     "data": {
      "text/plain": [
       "array([289221.54737122])"
      ]
     },
     "execution_count": 11,
     "metadata": {},
     "output_type": "execute_result"
    }
   ],
   "source": [
    "powierzchnia = (1650 - mean[0])/st_dev[0]\n",
    "il_pok = (3 - mean[1])/st_dev[1] \n",
    "cena = 1*theta[0] + powierzchnia*theta[1] + il_pok*theta[2] \n",
    "cena"
   ]
  },
  {
   "cell_type": "markdown",
   "metadata": {},
   "source": [
    "## Normal equations"
   ]
  },
  {
   "cell_type": "markdown",
   "metadata": {},
   "source": [
    "Other way to do the same thing is normal equations: $\\theta = (X^TX)^{-1} X^Ty$. In this case we don't have to normalize data, so we will reload the data. "
   ]
  },
  {
   "cell_type": "code",
   "execution_count": 12,
   "metadata": {},
   "outputs": [
    {
     "data": {
      "text/plain": [
       "array([89597.9095428 ,   139.21067402, -8738.01911233])"
      ]
     },
     "execution_count": 12,
     "metadata": {},
     "output_type": "execute_result"
    }
   ],
   "source": [
    "data = np.loadtxt('data/RegLinMultVar.txt', delimiter=',')\n",
    "X = np.c_[data[:,0], data[:, 1]]\n",
    "y = np.c_[data[:,2]]\n",
    "m = y.size\n",
    "X = np.c_[np.ones(m), X]\n",
    "theta = np.dot(np.linalg.inv(np.dot(np.transpose(X),X)),np.dot(np.transpose(X),y))\n",
    "theta.ravel()"
   ]
  },
  {
   "cell_type": "markdown",
   "metadata": {},
   "source": [
    "Now we will use this model to predict value of the same flat."
   ]
  },
  {
   "cell_type": "code",
   "execution_count": 13,
   "metadata": {},
   "outputs": [
    {
     "data": {
      "text/plain": [
       "293081.4643348973"
      ]
     },
     "execution_count": 13,
     "metadata": {},
     "output_type": "execute_result"
    }
   ],
   "source": [
    "cena = theta[0]*1 + theta[1]*1650 + theta[2]*3\n",
    "cena[0]"
   ]
  }
 ],
 "metadata": {
  "kernelspec": {
   "display_name": "Python 3",
   "language": "python",
   "name": "python3"
  },
  "language_info": {
   "codemirror_mode": {
    "name": "ipython",
    "version": 3
   },
   "file_extension": ".py",
   "mimetype": "text/x-python",
   "name": "python",
   "nbconvert_exporter": "python",
   "pygments_lexer": "ipython3",
   "version": "3.7.3"
  }
 },
 "nbformat": 4,
 "nbformat_minor": 2
}
