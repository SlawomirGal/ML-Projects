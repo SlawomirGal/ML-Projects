{
 "cells": [
  {
   "cell_type": "markdown",
   "metadata": {},
   "source": [
    "## Linear regression with one variable: algorithm"
   ]
  },
  {
   "cell_type": "code",
   "execution_count": 1,
   "metadata": {},
   "outputs": [],
   "source": [
    "# %load ../../standard_import.txt\n",
    "import pandas as pd\n",
    "import numpy as np\n",
    "import matplotlib.pyplot as plt\n",
    "from IPython.display import Image\n",
    "\n",
    "\n",
    "\n",
    "from sklearn.linear_model import LinearRegression\n",
    "from mpl_toolkits.mplot3d import axes3d\n",
    "\n",
    "pd.set_option('display.notebook_repr_html', False)\n",
    "pd.set_option('display.max_columns', None)\n",
    "pd.set_option('display.max_rows', 150)\n",
    "pd.set_option('display.max_seq_items', None)\n",
    "\n",
    "%matplotlib inline  \n",
    "\n",
    "import seaborn as sns\n",
    "sns.set_context('notebook')\n",
    "sns.set_style('white')\n",
    "pkt = 0"
   ]
  },
  {
   "cell_type": "markdown",
   "metadata": {},
   "source": [
    "Let's load the data and look at it"
   ]
  },
  {
   "cell_type": "code",
   "execution_count": 2,
   "metadata": {},
   "outputs": [
    {
     "data": {
      "text/plain": [
       "(97, 2)"
      ]
     },
     "execution_count": 2,
     "metadata": {},
     "output_type": "execute_result"
    }
   ],
   "source": [
    "data = np.loadtxt('data/RegLinOneVar.txt', delimiter=',')\n",
    "\n",
    "X = np.c_[np.ones(data.shape[0]),data[:,0]]\n",
    "X.shape\n"
   ]
  },
  {
   "cell_type": "code",
   "execution_count": 3,
   "metadata": {},
   "outputs": [
    {
     "data": {
      "text/plain": [
       "(97, 1)"
      ]
     },
     "execution_count": 3,
     "metadata": {},
     "output_type": "execute_result"
    }
   ],
   "source": [
    "y = np.c_[data[:,1]]\n",
    "y.shape"
   ]
  },
  {
   "cell_type": "code",
   "execution_count": 4,
   "metadata": {},
   "outputs": [
    {
     "data": {
      "image/png": "[encoded data removed]",
      "text/plain": [
       "<Figure size 432x288 with 1 Axes>"
      ]
     },
     "metadata": {
      "needs_background": "light"
     },
     "output_type": "display_data"
    }
   ],
   "source": [
    "plt.scatter(X[:,1], y, s=30, c='r', marker='x', linewidths=1)\n",
    "plt.xlim(4,24)\n",
    "plt.xlabel('Populacja miasta w 10 tysięcy')\n",
    "plt.ylabel('Zysk w 10,000 $');"
   ]
  },
  {
   "cell_type": "markdown",
   "metadata": {},
   "source": [
    "#### Gradient \n",
    "In this part we will implement the gradient algorithm in iterative and matrix version:\n",
    "### $$ J(\\theta) = \\frac{1}{2m}\\sum_{i=1}^{m}\\big[h_{\\theta}(x_{i})-y_{i}]^{2}\\hspace{5cm}[1]$$\n",
    "where hypothesis h(x) is equal to: $h_{\\theta}(x) = \\theta_{0}x_{0} + \\theta_{1} x_{1}$"
   ]
  },
  {
   "cell_type": "code",
   "execution_count": 5,
   "metadata": {},
   "outputs": [],
   "source": [
    "def computeCost(X, y, theta):\n",
    "    m = y.size\n",
    "    #J = 0\n",
    "    #suma = 0\n",
    "    #for i in range(m):\n",
    "    #Tu wpisz kod\n",
    "        #J = (theta[0]*X[i][0] + theta[1]*X[i][1] - y[i])**2\n",
    "        #suma += J\n",
    "    #suma = suma/(2*m)\n",
    "    #J = suma\n",
    "    J = np.dot(X,theta)\n",
    "    J1 = np.transpose(J-y)\n",
    "    J2 = J-y\n",
    "    J = np.dot(J1,J2)\n",
    "    J = J/(2*m)\n",
    "    return(J)                            "
   ]
  },
  {
   "cell_type": "code",
   "execution_count": 6,
   "metadata": {},
   "outputs": [
    {
     "data": {
      "text/plain": [
       "array([[32.07273388]])"
      ]
     },
     "execution_count": 6,
     "metadata": {},
     "output_type": "execute_result"
    }
   ],
   "source": [
    "theta = np.zeros((2, 1))\n",
    "cost = computeCost(X,y, theta)\n",
    "cost"
   ]
  },
  {
   "cell_type": "markdown",
   "metadata": {},
   "source": [
    "Now we known what is the error of own model. Let's use this iinformation to make a optimization function.\n",
    "Formula:\n",
    "### $$\\theta_{j} := \\theta_{j} - \\alpha \\frac{1}{m} \\sum_{i=1}^{m} \\big[h_{\\theta}(x_{i})-y_{i}] x_{i,j}\\hspace{5cm}[2]$$"
   ]
  },
  {
   "cell_type": "code",
   "execution_count": 7,
   "metadata": {},
   "outputs": [],
   "source": [
    "def gradientDescent(X, y, alpha=0.01, num_iters=1500):\n",
    "    m = y.size\n",
    "    theta = np.zeros((2, 1))\n",
    "    J_history = np.zeros(num_iters)\n",
    "    \n",
    "    for iter in np.arange(num_iters):\n",
    "        J = np.dot(X,theta)\n",
    "        J1 = np.dot(np.transpose(X),J - y)\n",
    "        J = J1/m\n",
    "        theta = theta - (alpha * J)\n",
    "     #   temp0 = []\n",
    "      #  temp1 = []\n",
    "       # for i in range(m):\n",
    "            #tu wpisz kod\n",
    "        #    temp0.append((theta[0]*X[i][0] + theta[1]*X[i][1] - y[i]) * X[i][0])\n",
    "         #   temp1.append((theta[0]*X[i][0] + theta[1]*X[i][1] - y[i]) * X[i][1])\n",
    "        J_history[iter] = computeCost(X, y, theta)\n",
    "        #theta[0] = theta[0] - (alpha/m)*(sum(temp0))\n",
    "        #theta[1] = theta[1] - (alpha/m)*(sum(temp1))\n",
    "    \n",
    "    return(theta, J_history)"
   ]
  },
  {
   "cell_type": "markdown",
   "metadata": {},
   "source": [
    "Here is own results for $\\theta_{0}$ and $\\theta_{1}$"
   ]
  },
  {
   "cell_type": "code",
   "execution_count": 8,
   "metadata": {},
   "outputs": [
    {
     "name": "stdout",
     "output_type": "stream",
     "text": [
      "theta:  [-3.63029144  1.16636235]\n"
     ]
    }
   ],
   "source": [
    "\n",
    "theta , Cost_J = gradientDescent(X, y)\n",
    "print('theta: ',theta.ravel())"
   ]
  },
  {
   "cell_type": "markdown",
   "metadata": {},
   "source": [
    "Now let's plot data set and decision boundary using $\\theta_{0}$ and $\\theta_{1}$."
   ]
  },
  {
   "cell_type": "code",
   "execution_count": 9,
   "metadata": {},
   "outputs": [
    {
     "data": {
      "image/png": "[encoded data removed]",
      "text/plain": [
       "<Figure size 432x288 with 1 Axes>"
      ]
     },
     "metadata": {
      "needs_background": "light"
     },
     "output_type": "display_data"
    }
   ],
   "source": [
    "xx = np.arange(5,23)\n",
    "yy = theta[0]+theta[1]*xx\n",
    "\n",
    "# Plot \n",
    "plt.scatter(X[:,1], y, s=30, c='r', marker='x', linewidths=1, label = 'dane treningowe')\n",
    "plt.plot(xx,yy, label='Regresja Liniowa (Gradient prosty)')\n",
    "plt.xlabel('Populacja miasta w 10 tysięcy')\n",
    "plt.ylabel('Zysk w 10,000 $');\n",
    "plt.legend(loc=4);"
   ]
  },
  {
   "cell_type": "markdown",
   "metadata": {},
   "source": [
    "Loss function"
   ]
  },
  {
   "cell_type": "code",
   "execution_count": 10,
   "metadata": {},
   "outputs": [
    {
     "data": {
      "image/png": "[encoded data removed]",
      "text/plain": [
       "<Figure size 432x288 with 1 Axes>"
      ]
     },
     "metadata": {
      "needs_background": "light"
     },
     "output_type": "display_data"
    }
   ],
   "source": [
    "plt.plot(Cost_J)\n",
    "plt.ylabel('Koszt J')\n",
    "plt.xlabel('Iteracje');"
   ]
  },
  {
   "cell_type": "markdown",
   "metadata": {},
   "source": [
    "Predict a output value of 2 citis. One with 35000 population and second with 70000 population. "
   ]
  },
  {
   "cell_type": "code",
   "execution_count": 28,
   "metadata": {},
   "outputs": [
    {
     "name": "stdout",
     "output_type": "stream",
     "text": [
      "[4519.7678677] [45342.45012945]\n"
     ]
    }
   ],
   "source": [
    "zysk1 = 0\n",
    "zysk2 = 0\n",
    "zysk1 = (theta[0] * 1 + theta[1] * 3.5) * 10000\n",
    "zysk2 = (theta[0] * 1 + theta[1] * 7) * 10000\n",
    "print(zysk1, zysk2)\n"
   ]
  }
 ],
 "metadata": {
  "kernelspec": {
   "display_name": "Python 3",
   "language": "python",
   "name": "python3"
  },
  "language_info": {
   "codemirror_mode": {
    "name": "ipython",
    "version": 3
   },
   "file_extension": ".py",
   "mimetype": "text/x-python",
   "name": "python",
   "nbconvert_exporter": "python",
   "pygments_lexer": "ipython3",
   "version": "3.7.3"
  }
 },
 "nbformat": 4,
 "nbformat_minor": 2
}
