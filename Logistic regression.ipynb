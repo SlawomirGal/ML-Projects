{
 "cells": [
  {
   "cell_type": "markdown",
   "metadata": {},
   "source": [
    "## Logistic regression"
   ]
  },
  {
   "cell_type": "code",
   "execution_count": 1,
   "metadata": {},
   "outputs": [],
   "source": [
    "# %load ../../standard_import.txt\n",
    "import pandas as pd\n",
    "import numpy as np\n",
    "import matplotlib as mpl\n",
    "import matplotlib.pyplot as plt\n",
    "import copy \n",
    "\n",
    "from scipy.optimize import minimize\n",
    "\n",
    "from sklearn.preprocessing import PolynomialFeatures\n",
    "\n",
    "pd.set_option('display.notebook_repr_html', False)\n",
    "pd.set_option('display.max_columns', None)\n",
    "pd.set_option('display.max_rows', 150)\n",
    "pd.set_option('display.max_seq_items', None)\n",
    " \n",
    "#%config InlineBackend.figure_formats = {'pdf',}\n",
    "%matplotlib inline\n",
    "\n",
    "#import seaborn as sns\n",
    "#sns.set_context('notebook')\n",
    "#sns.set_style('white')"
   ]
  },
  {
   "cell_type": "markdown",
   "metadata": {},
   "source": [
    "As usual first let's load and plot data"
   ]
  },
  {
   "cell_type": "code",
   "execution_count": 2,
   "metadata": {},
   "outputs": [],
   "source": [
    "def loaddata(file, delimeter):\n",
    "    data = np.loadtxt(file, delimiter=delimeter)\n",
    "    print('Wymiary danych treningowych: ',data.shape)\n",
    "    print(data[1:6,:])\n",
    "    return(data)"
   ]
  },
  {
   "cell_type": "code",
   "execution_count": 3,
   "metadata": {},
   "outputs": [],
   "source": [
    "def plotData(data, label_x, label_y, label_pos, label_neg, axes=None):\n",
    "    neg = data[:,2] == 0\n",
    "    pos = data[:,2] == 1\n",
    "    \n",
    "    \n",
    "    if axes == None:\n",
    "        axes = plt.gca()\n",
    "    axes.scatter(data[pos][:,0], data[pos][:,1], marker='+', c='g', s=60, linewidth=2, label=label_pos)\n",
    "    axes.scatter(data[neg][:,0], data[neg][:,1], c='r', s=60, label=label_neg)\n",
    "    axes.set_xlabel(label_x)\n",
    "    axes.set_ylabel(label_y)\n",
    "    axes.legend(frameon= True, fancybox = True);"
   ]
  },
  {
   "cell_type": "code",
   "execution_count": 4,
   "metadata": {},
   "outputs": [
    {
     "name": "stdout",
     "output_type": "stream",
     "text": [
      "Wymiary danych treningowych:  (100, 3)\n",
      "[[30.28671077 43.89499752  0.        ]\n",
      " [35.84740877 72.90219803  0.        ]\n",
      " [60.18259939 86.3085521   1.        ]\n",
      " [79.03273605 75.34437644  1.        ]\n",
      " [45.08327748 56.31637178  0.        ]]\n"
     ]
    }
   ],
   "source": [
    "data = loaddata('data/RegLogExam.txt', ',')"
   ]
  },
  {
   "cell_type": "code",
   "execution_count": 5,
   "metadata": {},
   "outputs": [],
   "source": [
    "y = np.c_[data[:,2]]\n",
    "m = y.size\n",
    "X = np.c_[np.ones((m,1)), data[:,0:2]]"
   ]
  },
  {
   "cell_type": "code",
   "execution_count": 6,
   "metadata": {
    "scrolled": true
   },
   "outputs": [
    {
     "data": {
      "image/png": "[encoded data removed]",
      "text/plain": [
       "<Figure size 432x288 with 1 Axes>"
      ]
     },
     "metadata": {
      "needs_background": "light"
     },
     "output_type": "display_data"
    }
   ],
   "source": [
    "plotData(data, 'Wynik 1-go egzaminu', 'Wynik 2-go Egzaminu', 'Przyjęty', 'Nie przyjęty')"
   ]
  },
  {
   "cell_type": "markdown",
   "metadata": {},
   "source": [
    "Hypothesis in logistic regression is equal to:\n",
    "$$ h_{\\theta}(x) = g(\\theta^{T}x)$$\n",
    "where g function is sigmoid:\n",
    "$$g(z) = \\frac{1}{1 + \\exp^{-z}}$$\n",
    "So hypothesis takes values form (0, 1), that's becouse it is a propability of success (that's means example is equla to class).\n",
    "First step is implementation of sigmoid function."
   ]
  },
  {
   "cell_type": "code",
   "execution_count": 7,
   "metadata": {},
   "outputs": [],
   "source": [
    "def sigmoid(z):\n",
    "    s = 0\n",
    "    s = 1/(1+(np.e**(-z)))\n",
    "    return s"
   ]
  },
  {
   "cell_type": "markdown",
   "metadata": {},
   "source": [
    "For 0.235 sigmoid function will return value that's is close to 0.5584"
   ]
  },
  {
   "cell_type": "code",
   "execution_count": 8,
   "metadata": {},
   "outputs": [
    {
     "data": {
      "text/plain": [
       "0.5584811124381613"
      ]
     },
     "execution_count": 8,
     "metadata": {},
     "output_type": "execute_result"
    }
   ],
   "source": [
    "sig = sigmoid(0.235)\n",
    "sig"
   ]
  },
  {
   "cell_type": "markdown",
   "metadata": {},
   "source": [
    "Loss function:\n",
    "#### $$ J(\\theta) = \\frac{1}{m}\\sum_{i=0}^{m-1}\\big[-y^{(i)}\\, log\\,( h_\\theta\\,(x^{(i)}))-(1-y^{(i)})\\,log\\,(1-h_\\theta(x^{(i)}))\\big]$$"
   ]
  },
  {
   "cell_type": "markdown",
   "metadata": {},
   "source": [
    "Opimizer:\n",
    "\n",
    "#### $$ \\frac{\\delta J(\\theta)}{\\delta\\theta_{j}} = \\frac{1}{m}\\sum_{i=0}^{m-1} ( h_\\theta (x^{(i)})-y^{(i)})x^{(i)}_{j} $$ "
   ]
  },
  {
   "cell_type": "code",
   "execution_count": 9,
   "metadata": {},
   "outputs": [],
   "source": [
    "def costFunction(theta, X, y):\n",
    "    m = y.size\n",
    "    J = 0\n",
    "    h = sigmoid(np.dot(X,theta))\n",
    "    \n",
    "    J1 = np.dot(np.transpose(y),np.log(h))\n",
    "    J2 = np.dot(np.transpose(1-y),np.log(1-h))\n",
    "    J = ((J1 + J2)*(-1))/m\n",
    "    if np.isnan(J[0]):\n",
    "        return(np.inf)\n",
    "    return(J[0])"
   ]
  },
  {
   "cell_type": "code",
   "execution_count": 10,
   "metadata": {},
   "outputs": [],
   "source": [
    "def gradient(theta, X, y):\n",
    "    m = y.size\n",
    "    theta_t = copy.deepcopy(theta.reshape(-1, 1))\n",
    "\n",
    "    h = sigmoid(np.dot(X,theta_t))\n",
    "    \n",
    "            \n",
    "    grad =(np.dot(np.transpose(X),(h-y)))/m \n",
    "\n",
    "    return(grad.ravel())"
   ]
  },
  {
   "cell_type": "code",
   "execution_count": 11,
   "metadata": {},
   "outputs": [
    {
     "name": "stdout",
     "output_type": "stream",
     "text": [
      "Cost: \n",
      " [0.69314718] <class 'numpy.ndarray'>\n",
      "Grad: \n",
      " [ -0.1        -12.00921659 -11.26284221] <class 'numpy.ndarray'> (3,)\n"
     ]
    }
   ],
   "source": [
    "initial_theta = np.zeros((X.shape[1], 1))\n",
    "cost = costFunction(initial_theta, X, y)\n",
    "grad = gradient(initial_theta, X, y)\n",
    "print('Cost: \\n', cost, type(cost))\n",
    "print('Grad: \\n', grad, type(grad), grad.shape)\n"
   ]
  },
  {
   "cell_type": "markdown",
   "metadata": {},
   "source": [
    "Now it's time to optimize function parameters. "
   ]
  },
  {
   "cell_type": "code",
   "execution_count": 12,
   "metadata": {},
   "outputs": [
    {
     "name": "stderr",
     "output_type": "stream",
     "text": [
      "/opt/conda/lib/python3.7/site-packages/ipykernel_launcher.py:8: RuntimeWarning: divide by zero encountered in log\n",
      "  \n",
      "/opt/conda/lib/python3.7/site-packages/ipykernel_launcher.py:8: RuntimeWarning: divide by zero encountered in log\n",
      "  \n",
      "/opt/conda/lib/python3.7/site-packages/ipykernel_launcher.py:8: RuntimeWarning: divide by zero encountered in log\n",
      "  \n",
      "/opt/conda/lib/python3.7/site-packages/ipykernel_launcher.py:8: RuntimeWarning: divide by zero encountered in log\n",
      "  \n"
     ]
    },
    {
     "data": {
      "text/plain": [
       "     fun: 0.20349770181913093\n",
       "     jac: array([-3.70633347e-07, -1.03900858e-06,  8.98510700e-07])\n",
       " message: 'Optimization terminated successfully.'\n",
       "    nfev: 173\n",
       "     nit: 66\n",
       "    njev: 162\n",
       "  status: 0\n",
       " success: True\n",
       "       x: array([-25.16257633,   0.20624163,   0.20148168])"
      ]
     },
     "execution_count": 12,
     "metadata": {},
     "output_type": "execute_result"
    }
   ],
   "source": [
    "res = minimize(costFunction, initial_theta, args=(X,y), method='CG', jac=gradient, options={'maxiter':400})\n",
    "res"
   ]
  },
  {
   "cell_type": "code",
   "execution_count": 13,
   "metadata": {},
   "outputs": [
    {
     "name": "stdout",
     "output_type": "stream",
     "text": [
      "[[-25.16257633]\n",
      " [  0.20624163]\n",
      " [  0.20148168]]\n"
     ]
    }
   ],
   "source": [
    "theta_predict = res.x.reshape(3,1)\n",
    "print(theta_predict)\n"
   ]
  },
  {
   "cell_type": "markdown",
   "metadata": {},
   "source": [
    "At the end we have to check accuracy of model."
   ]
  },
  {
   "cell_type": "code",
   "execution_count": 14,
   "metadata": {},
   "outputs": [],
   "source": [
    "def predict(theta, X):\n",
    "    p = 0\n",
    "    results = sigmoid(np.dot(X,theta))\n",
    "    p = np.zeros(len(results))\n",
    "    for i in range(len(results)):\n",
    "        if results[i] >= 0.5:\n",
    "            p[i] = 1\n",
    "    return(p)"
   ]
  },
  {
   "cell_type": "code",
   "execution_count": 15,
   "metadata": {},
   "outputs": [
    {
     "name": "stdout",
     "output_type": "stream",
     "text": [
      "Dokladnosc 89.0%\n"
     ]
    }
   ],
   "source": [
    "p = predict(theta_predict, X) \n",
    "dokladnosc = 0 \n",
    "for i in range(len(p)):\n",
    "    if p[i] == y[i]:\n",
    "        dokladnosc += 1\n",
    "dokladnosc /= m\n",
    "dokladnosc *= 100\n",
    "print('Dokladnosc {}%'.format(dokladnosc))"
   ]
  },
  {
   "cell_type": "markdown",
   "metadata": {},
   "source": [
    "One of students recived score 45 points from first exam and 85 from the second. What is the propability that this student will get accepted in college?"
   ]
  },
  {
   "cell_type": "code",
   "execution_count": 17,
   "metadata": {},
   "outputs": [
    {
     "name": "stdout",
     "output_type": "stream",
     "text": [
      "Student ma 77.63% szans na to, że dostanie się na studia\n",
      "[[-25.16257633]\n",
      " [  0.20624163]\n",
      " [  0.20148168]]\n"
     ]
    }
   ],
   "source": [
    "pp = 0\n",
    "Xnew = np.array([1,45,85])\n",
    "pp = sigmoid(np.dot(Xnew,theta_predict))\n",
    "print((\"Student ma %2.2f%% szans na to, że dostanie się na studia\")%(pp*100))\n",
    "print(theta_predict)"
   ]
  },
  {
   "cell_type": "markdown",
   "metadata": {},
   "source": [
    "Now let's take a look at decision boundary"
   ]
  },
  {
   "cell_type": "code",
   "execution_count": 18,
   "metadata": {},
   "outputs": [
    {
     "data": {
      "image/png": "[encoded data removed]",
      "text/plain": [
       "<Figure size 432x288 with 1 Axes>"
      ]
     },
     "metadata": {
      "needs_background": "light"
     },
     "output_type": "display_data"
    }
   ],
   "source": [
    "plt.scatter(45, 85, s=60, c='r', marker='v', label='(45, 85)')\n",
    "plotData(data, 'Wynik 1-go egzaminu', 'Wynik 2-go egzaminu', 'Przyjęty', 'Nie przyjęty')\n",
    "\n",
    "x1_min, x1_max = X[:,1].min(), X[:,1].max()\n",
    "x2_min, x2_max = X[:,2].min(), X[:,2].max()\n",
    "\n",
    "meshx, meshy = np.meshgrid(np.linspace(x1_min, x1_max), np.linspace(x2_min, x2_max))\n",
    "size = meshx.ravel().shape[0]\n",
    "XX = np.c_[np.ones((size,1)), meshx.ravel(), meshy.ravel()]\n",
    "h = sigmoid(XX.dot(theta_predict))\n",
    "\n",
    "h = h.reshape(meshx.shape)\n",
    "plt.contour(meshx, meshy, h, [0.5], linewidths=1, colors='b');\n"
   ]
  },
  {
   "cell_type": "markdown",
   "metadata": {},
   "source": [
    "## Regularization"
   ]
  },
  {
   "cell_type": "code",
   "execution_count": 19,
   "metadata": {},
   "outputs": [
    {
     "name": "stdout",
     "output_type": "stream",
     "text": [
      "Wymiary danych treningowych:  (118, 3)\n",
      "[[-0.092742  0.68494   1.      ]\n",
      " [-0.21371   0.69225   1.      ]\n",
      " [-0.375     0.50219   1.      ]\n",
      " [-0.51325   0.46564   1.      ]\n",
      " [-0.52477   0.2098    1.      ]]\n"
     ]
    }
   ],
   "source": [
    "data2 = loaddata('data/RegLogChip.txt', ',')"
   ]
  },
  {
   "cell_type": "code",
   "execution_count": 20,
   "metadata": {},
   "outputs": [],
   "source": [
    "y = np.c_[data2[:,2]]\n",
    "X = data2[:,0:2]"
   ]
  },
  {
   "cell_type": "markdown",
   "metadata": {},
   "source": [
    "Let's plot new dataset"
   ]
  },
  {
   "cell_type": "code",
   "execution_count": 21,
   "metadata": {},
   "outputs": [
    {
     "data": {
      "image/png": "[encoded data removed]",
      "text/plain": [
       "<Figure size 432x288 with 1 Axes>"
      ]
     },
     "metadata": {
      "needs_background": "light"
     },
     "output_type": "display_data"
    }
   ],
   "source": [
    "plotData(data2, 'Test 1', 'Test 2', 'y = 1', 'y = 0')"
   ]
  },
  {
   "cell_type": "markdown",
   "metadata": {},
   "source": [
    "As we can see this decision boundary will be more complicated than piervous. To deal with that we will use a process that's named features mapping to make more data lie this:\n",
    "$$\\begin{bmatrix}1~~x_{1}~~x_{2}~~x_{1}^2~~x_{1}x_{2}~~x_{2}^2~~x_{1}^3~~ ...~~x_{1}x_{2}^5~~x_{2}^6 \\end{bmatrix}$$\n"
   ]
  },
  {
   "cell_type": "code",
   "execution_count": 22,
   "metadata": {},
   "outputs": [
    {
     "data": {
      "text/plain": [
       "(118, 28)"
      ]
     },
     "execution_count": 22,
     "metadata": {},
     "output_type": "execute_result"
    }
   ],
   "source": [
    "poly = PolynomialFeatures(6)\n",
    "XX = poly.fit_transform(data2[:,0:2])\n",
    "XX.shape"
   ]
  },
  {
   "cell_type": "markdown",
   "metadata": {},
   "source": [
    "Loss function with regularization\n",
    "#### $$ J(\\theta) = \\frac{1}{m}\\sum_{i=0}^{m-1}\\big[-y^{(i)}\\, log\\,( h_\\theta\\,(x^{(i)}))-(1-y^{(i)})\\,log\\,(1-h_\\theta(x^{(i)}))\\big] + \\frac{\\lambda}{2m}\\sum_{j=1}^{n-1}\\theta_{j}^{2}$$\n",
    "\n",
    "and Optimizer\n",
    "#### $$ \\frac{\\delta J(\\theta)}{\\delta\\theta_{j}} = \\frac{1}{m}\\sum_{i=0}^{m-1} ( h_\\theta (x^{(i)})-y^{(i)})x^{(i)}_{j} + \\frac{\\lambda}{m}\\theta_{j}$$ where j = 1, ..., n-1\n"
   ]
  },
  {
   "cell_type": "code",
   "execution_count": 23,
   "metadata": {},
   "outputs": [],
   "source": [
    "def costFunctionReg(theta, reg, *args):#OK\n",
    "    m = y.size\n",
    "    \n",
    "    #Tu wpisz kod\n",
    "    h = sigmoid(np.dot(XX,theta))\n",
    "    La = theta\n",
    "    La[0] = 0\n",
    "    J1 = np.dot(np.transpose(y),np.log(h))\n",
    "    J2 = np.dot(np.transpose(1-y),np.log(1-h))\n",
    "    J = ((J1 + J2)*(-1))/m + (reg/(2*m)) * La\n",
    "    \n",
    "    if np.isnan(J[0]):\n",
    "        return(np.inf)\n",
    "    return(J[0])"
   ]
  },
  {
   "cell_type": "code",
   "execution_count": 37,
   "metadata": {},
   "outputs": [],
   "source": [
    "def gradientReg(theta, reg, *args):\n",
    "    m = y.size\n",
    "    \n",
    "    #Tu wpisz kod\n",
    "    h = sigmoid(np.dot(XX,theta))\n",
    "    La = theta\n",
    "    La[0] = 0\n",
    "    grad =(np.dot(np.transpose(XX),(h-y)))/m\n",
    "    grad += (reg/m)*La\n",
    "    \n",
    "    return(grad.ravel())"
   ]
  },
  {
   "cell_type": "code",
   "execution_count": 38,
   "metadata": {},
   "outputs": [
    {
     "name": "stdout",
     "output_type": "stream",
     "text": [
      "(28, 1)\n",
      "[0.69314718]\n",
      "(118, 28)\n",
      "(28,)\n",
      "[8.47457627e-03 1.87880932e-02 7.77711864e-05 5.03446395e-02\n",
      " 1.15013308e-02 3.76648474e-02 1.83559872e-02 7.32393391e-03\n",
      " 8.19244468e-03 2.34764889e-02 3.93486234e-02 2.23923907e-03\n",
      " 1.28600503e-02 3.09593720e-03 3.93028171e-02 1.99707467e-02\n",
      " 4.32983232e-03 3.38643902e-03 5.83822078e-03 4.47629067e-03\n",
      " 3.10079849e-02 3.10312442e-02 1.09740238e-03 6.31570797e-03\n",
      " 4.08503006e-04 7.26504316e-03 1.37646175e-03 3.87936363e-02]\n"
     ]
    }
   ],
   "source": [
    "reg = 3\n",
    "initial_theta = np.zeros((XX.shape[1], 1))\n",
    "print(initial_theta.shape)\n",
    "cost = costFunctionReg(initial_theta,reg, XX, y)\n",
    "print(cost)\n",
    "\n",
    "grad = gradientReg(initial_theta, reg, XX, y)\n",
    "print(grad.shape)\n",
    "\n",
    "print(grad)"
   ]
  }
 ],
 "metadata": {
  "kernelspec": {
   "display_name": "Python 3",
   "language": "python",
   "name": "python3"
  },
  "language_info": {
   "codemirror_mode": {
    "name": "ipython",
    "version": 3
   },
   "file_extension": ".py",
   "mimetype": "text/x-python",
   "name": "python",
   "nbconvert_exporter": "python",
   "pygments_lexer": "ipython3",
   "version": "3.7.3"
  }
 },
 "nbformat": 4,
 "nbformat_minor": 4
}
